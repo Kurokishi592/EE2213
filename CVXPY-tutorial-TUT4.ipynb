{
 "cells": [
  {
   "cell_type": "markdown",
   "id": "dbc0443b",
   "metadata": {},
   "source": [
    "\n",
    "# Introduction to CVXPY for Optimization\n",
    "\n",
    "Welcome to this tutorial on `CVXPY`, a Python-embedded modeling language for convex optimization problems. If you're familiar with linear programming, `CVXPY` takes that concept and expands it to a much broader class of problems known as convex optimization. This notebook will guide you through the basics of using `CVXPY` to solve both linear programming and more general convex optimization problems.\n",
    "\n",
    "**What is Optimization?**\n",
    "\n",
    "Optimization is about making the best possible choice from a set of available alternatives. In mathematics, this often means finding the minimum or maximum of a function, subject to certain constraints.\n",
    "\n",
    "**Why CVXPY?**\n",
    "\n",
    "`CVXPY` allows you to express your optimization problems in a natural, mathematical syntax directly within Python. It then uses powerful underlying solvers to find the solutions. This makes it incredibly flexible and easy to use for a wide range of applications, from machine learning to finance and engineering.\n",
    "\n",
    "Let's get started!\n"
   ]
  },
  {
   "cell_type": "markdown",
   "id": "bb3a1e98",
   "metadata": {},
   "source": [
    "\n",
    "## Section 1: Installation\n",
    "\n",
    "First, you need to install `CVXPY`. You can do this using `pip`.\n"
   ]
  },
  {
   "cell_type": "code",
   "execution_count": 1,
   "id": "da403ce6",
   "metadata": {},
   "outputs": [
    {
     "name": "stdout",
     "output_type": "stream",
     "text": [
      "Requirement already satisfied: cvxpy in c:\\users\\sjfan\\anaconda3\\lib\\site-packages (1.7.1)\n",
      "Requirement already satisfied: osqp>=0.6.2 in c:\\users\\sjfan\\anaconda3\\lib\\site-packages (from cvxpy) (1.0.4)\n",
      "Requirement already satisfied: clarabel>=0.5.0 in c:\\users\\sjfan\\anaconda3\\lib\\site-packages (from cvxpy) (0.11.1)\n",
      "Requirement already satisfied: scs>=3.2.4.post1 in c:\\users\\sjfan\\anaconda3\\lib\\site-packages (from cvxpy) (3.2.8)\n",
      "Requirement already satisfied: numpy>=1.22.4 in c:\\users\\sjfan\\anaconda3\\lib\\site-packages (from cvxpy) (1.26.4)\n",
      "Requirement already satisfied: scipy>=1.13.0 in c:\\users\\sjfan\\anaconda3\\lib\\site-packages (from cvxpy) (1.16.1)\n",
      "Requirement already satisfied: cffi in c:\\users\\sjfan\\anaconda3\\lib\\site-packages (from clarabel>=0.5.0->cvxpy) (1.16.0)\n",
      "Requirement already satisfied: jinja2 in c:\\users\\sjfan\\anaconda3\\lib\\site-packages (from osqp>=0.6.2->cvxpy) (3.1.3)\n",
      "Requirement already satisfied: setuptools in c:\\users\\sjfan\\anaconda3\\lib\\site-packages (from osqp>=0.6.2->cvxpy) (68.2.2)\n",
      "Requirement already satisfied: joblib in c:\\users\\sjfan\\anaconda3\\lib\\site-packages (from osqp>=0.6.2->cvxpy) (1.2.0)\n",
      "Requirement already satisfied: pycparser in c:\\users\\sjfan\\anaconda3\\lib\\site-packages (from cffi->clarabel>=0.5.0->cvxpy) (2.21)\n",
      "Requirement already satisfied: MarkupSafe>=2.0 in c:\\users\\sjfan\\anaconda3\\lib\\site-packages (from jinja2->osqp>=0.6.2->cvxpy) (2.1.3)\n"
     ]
    }
   ],
   "source": [
    "\n",
    "# Run this cell to install CVXPY if you haven't already\n",
    "!pip install cvxpy\n"
   ]
  },
  {
   "cell_type": "markdown",
   "id": "1cf3d317",
   "metadata": {},
   "source": [
    "\n",
    "### Explanation:\n",
    "\n",
    "*   `!pip install cvxpy`: The `!` at the beginning of the line allows you to run shell commands directly from a Jupyter Notebook cell. This command installs the `cvxpy` library and its dependencies.\n"
   ]
  },
  {
   "cell_type": "markdown",
   "id": "3db211f7",
   "metadata": {},
   "source": [
    "\n",
    "## Section 2: Linear Programming with CVXPY\n",
    "\n",
    "Linear Programming (LP) is a method for achieving the best outcome (such as maximum profit or lowest cost) in a mathematical model whose requirements are represented by linear relationships. It's a special case of convex optimization.\n",
    "\n",
    "Let's consider a classic LP problem:\n",
    "\n",
    "**Problem:** Maximize `x + y`\n",
    "\n",
    "**Subject to:**\n",
    "*   `x + 2y <= 10`\n",
    "*   `3x + y <= 15`\n",
    "*   `x >= 0`\n",
    "*   `y >= 0`\n",
    "\n",
    "Here, `x` and `y` are our **variables**, `x + y` is our **objective function** (what we want to maximize), and the inequalities are our **constraints**.\n"
   ]
  },
  {
   "cell_type": "code",
   "execution_count": 3,
   "id": "896b2278",
   "metadata": {},
   "outputs": [
    {
     "name": "stdout",
     "output_type": "stream",
     "text": [
      "Status: optimal\n",
      "Optimal value: 6.999999999672566\n",
      "Optimal x: 3.9999999999730504\n",
      "Optimal y: 2.999999999699515\n"
     ]
    }
   ],
   "source": [
    "\n",
    "import cvxpy as cp\n",
    "\n",
    "# 1. Define variables\n",
    "x = cp.Variable()\n",
    "y = cp.Variable()\n",
    "\n",
    "# 2. Define the objective function\n",
    "objective = cp.Maximize(x + y)\n",
    "\n",
    "# 3. Define constraints\n",
    "constraints = [\n",
    "    x + 2*y <= 10,\n",
    "    3*x + y <= 15,\n",
    "    x >= 0,\n",
    "    y >= 0\n",
    "]\n",
    "\n",
    "# 4. Create the problem and solve it\n",
    "problem = cp.Problem(objective, constraints)\n",
    "problem.solve()\n",
    "\n",
    "# 5. Print the results\n",
    "print(f\"Status: {problem.status}\")\n",
    "print(f\"Optimal value: {problem.value}\")\n",
    "print(f\"Optimal x: {x.value}\")\n",
    "print(f\"Optimal y: {y.value}\")\n"
   ]
  },
  {
   "cell_type": "markdown",
   "id": "6ced37bc",
   "metadata": {},
   "source": [
    "\n",
    "### Explanation:\n",
    "\n",
    "*   `import cvxpy as cp`: Imports the `cvxpy` library, commonly aliased as `cp`.\n",
    "*   `cp.Variable()`: This is how you define optimization variables in `CVXPY`. You can also define vectors or matrices of variables, e.g., `x = cp.Variable(n)` for `n` variables.\n",
    "*   `cp.Maximize()` or `cp.Minimize()`: These functions define the objective of your optimization problem. You pass the expression you want to maximize or minimize.\n",
    "*   `constraints = [...]`: Constraints are defined as a list of `CVXPY` expressions. Each expression represents an inequality or equality constraint.\n",
    "*   `cp.Problem(objective, constraints)`: This creates the optimization problem object, combining the objective and constraints.\n",
    "*   `problem.solve()`: This is the magic step! `CVXPY` calls an appropriate solver to find the optimal solution. The default solver is usually sufficient for many problems.\n",
    "*   `problem.status`: Indicates the status of the solution (e.g., 'optimal', 'infeasible', 'unbounded').\n",
    "*   `problem.value`: The optimal value of the objective function.\n",
    "*   `x.value`, `y.value`: The optimal values of the variables.\n"
   ]
  },
  {
   "cell_type": "markdown",
   "id": "89a94a83",
   "metadata": {},
   "source": [
    "\n",
    "## Section 3: Convex Optimization with CVXPY (Quadratic Program Example)\n",
    "\n",
    "Convex optimization is a subfield of mathematical optimization that studies the problem of minimizing convex functions over convex sets. Linear programming is a special case where the objective function and constraints are all linear.\n",
    "\n",
    "Let's look at a simple Quadratic Program (QP), which is a type of convex optimization problem where the objective function is quadratic and the constraints are linear.\n",
    "\n",
    "**Problem:** Minimize `(x - 2)^2 + (y - 3)^2`\n",
    "\n",
    "**Subject to:**\n",
    "*   `x + y = 5`\n",
    "*   `x >= 0`\n",
    "*   `y >= 0`\n",
    "\n",
    "This problem is trying to find the point `(x, y)` on the line `x + y = 5` (in the first quadrant) that is closest to the point `(2, 3)`.\n"
   ]
  },
  {
   "cell_type": "code",
   "execution_count": 6,
   "id": "43db72ff",
   "metadata": {},
   "outputs": [
    {
     "name": "stdout",
     "output_type": "stream",
     "text": [
      "Status: optimal\n",
      "Optimal value: 0.0\n",
      "Optimal x: 2.0\n",
      "Optimal y: 3.0\n"
     ]
    }
   ],
   "source": [
    "\n",
    "import cvxpy as cp\n",
    "import numpy as np\n",
    "\n",
    "# 1. Define variables\n",
    "x = cp.Variable()\n",
    "y = cp.Variable()\n",
    "\n",
    "# 2. Define the objective function (quadratic)\n",
    "objective = cp.Minimize(cp.sum_squares(x - 2) + cp.sum_squares(y - 3))\n",
    "\n",
    "# 3. Define constraints\n",
    "constraints = [\n",
    "    x + y == 5,\n",
    "    x >= 0,\n",
    "    y >= 0\n",
    "]\n",
    "\n",
    "# 4. Create the problem and solve it\n",
    "problem = cp.Problem(objective, constraints)\n",
    "problem.solve()\n",
    "\n",
    "# 5. Print the results\n",
    "print(f\"Status: {problem.status}\")\n",
    "print(f\"Optimal value: {problem.value}\")\n",
    "print(f\"Optimal x: {x.value}\")\n",
    "print(f\"Optimal y: {y.value}\")\n"
   ]
  },
  {
   "cell_type": "markdown",
   "id": "140ee657",
   "metadata": {},
   "source": [
    "\n",
    "### Explanation:\n",
    "\n",
    "*   `import numpy as np`: We import `numpy` for numerical operations, although in this simple case, `cp.sum_squares` handles the squaring.\n",
    "*   `cp.sum_squares(expression)`: This function is used to represent the sum of squares, which is a common convex function. `(x - 2)^2` is equivalent to `cp.sum_squares(x - 2)`. \n",
    "*   `x + y == 5`: Equality constraints are defined using `==`. In our case, x-2 is a single value (a scalar), so cp.sum_squares(x-2) is equivalent to (x-2)^2. If we had a vector v = [v1, v2, v3], then cp.sum_squares(v) would calculate v1^2 + v2^2 + v3^2.\n",
    "\n",
    "Notice that the structure of the `CVXPY` code remains very similar between linear programming and quadratic programming. This consistency is one of `CVXPY`'s strengths, allowing you to tackle various convex optimization problems with a unified syntax.\n"
   ]
  },
  {
   "cell_type": "markdown",
   "id": "1744f004",
   "metadata": {},
   "source": [
    "\n",
    "## Conclusion\n",
    "\n",
    "In this notebook, you've learned the fundamentals of using `CVXPY` to model and solve optimization problems in Python. We covered:\n",
    "\n",
    "*   How to define variables and objectives.\n",
    "*   How to specify linear and equality constraints.\n",
    "*   Solving a Linear Programming problem.\n",
    "*   Solving a simple Convex Optimization problem (Quadratic Program).\n",
    "\n",
    "`CVXPY` is a powerful tool for anyone working with optimization. As you delve deeper into machine learning, operations research, or other quantitative fields, you'll find `CVXPY` to be an invaluable asset for solving complex problems efficiently.\n",
    "\n",
    "Keep practicing, and happy optimizing!\n"
   ]
  }
 ],
 "metadata": {
  "kernelspec": {
   "display_name": "Python 3 (ipykernel)",
   "language": "python",
   "name": "python3"
  },
  "language_info": {
   "codemirror_mode": {
    "name": "ipython",
    "version": 3
   },
   "file_extension": ".py",
   "mimetype": "text/x-python",
   "name": "python",
   "nbconvert_exporter": "python",
   "pygments_lexer": "ipython3",
   "version": "3.11.11"
  }
 },
 "nbformat": 4,
 "nbformat_minor": 5
}
